{
 "cells": [
  {
   "cell_type": "markdown",
   "metadata": {},
   "source": [
    "# Indeed data challenge\n",
    "\n",
    "This is an exercise for the company Indeed.  We are given a file with information about a job including:\n",
    "* companyId\n",
    "* jobType\n",
    "* degree\n",
    "* major\n",
    "* industry\n",
    "* yearsExperience\n",
    "* milesFromMetropolis\n",
    "\n",
    "The task is to predict the salary given these features.  I have chosen to use a simple linear regression model to make this prediction.  "
   ]
  },
  {
   "cell_type": "markdown",
   "metadata": {},
   "source": [
    "# Load data\n",
    "\n",
    "First I load the data into the notebook.  The first line of the file is a header."
   ]
  },
  {
   "cell_type": "code",
   "execution_count": 1,
   "metadata": {
    "collapsed": true
   },
   "outputs": [],
   "source": [
    "fileName='indeed_data_science_exercise/train_features_2013-03-07.csv'\n",
    "with open(fileName) as f:\n",
    "    rawDataX=[line.split(',') for line in f.read().split('\\n')[:-1]]"
   ]
  },
  {
   "cell_type": "code",
   "execution_count": 2,
   "metadata": {
    "collapsed": true
   },
   "outputs": [],
   "source": [
    "fileName='indeed_data_science_exercise/train_salaries_2013-03-07.csv'\n",
    "with open(fileName) as f:\n",
    "    rawDataY=[line.split(',') for line in f.read().split('\\n')[:-1]]"
   ]
  },
  {
   "cell_type": "code",
   "execution_count": 3,
   "metadata": {},
   "outputs": [],
   "source": [
    "rawDataY={line[0]:int(line[1]) for line in rawDataY[1:]}"
   ]
  },
  {
   "cell_type": "code",
   "execution_count": 4,
   "metadata": {},
   "outputs": [
    {
     "data": {
      "text/plain": [
       "['jobId',\n",
       " 'companyId',\n",
       " 'jobType',\n",
       " 'degree',\n",
       " 'major',\n",
       " 'industry',\n",
       " 'yearsExperience',\n",
       " 'milesFromMetropolis']"
      ]
     },
     "execution_count": 4,
     "metadata": {},
     "output_type": "execute_result"
    }
   ],
   "source": [
    "rawDataX[0]"
   ]
  },
  {
   "cell_type": "markdown",
   "metadata": {},
   "source": [
    "# map catagorical info to number\n",
    "\n",
    "Here I map the catagorical data into one hot encodings that I can train the model on."
   ]
  },
  {
   "cell_type": "markdown",
   "metadata": {},
   "source": [
    "First we convert the catagory in to an index."
   ]
  },
  {
   "cell_type": "code",
   "execution_count": 5,
   "metadata": {},
   "outputs": [],
   "source": [
    "def catToNum(array):\n",
    "    xToNum={}\n",
    "    count=0\n",
    "    for i in array:\n",
    "        if i not in xToNum:\n",
    "            xToNum[i]=count\n",
    "            count+=1\n",
    "    return xToNum\n",
    "\n",
    "compToNum=catToNum([line[1] for line in rawDataX[1:]])\n",
    "jobTypeToNum=catToNum([line[2] for line in rawDataX[1:]])\n",
    "degreeToNum=catToNum([line[3] for line in rawDataX[1:]])\n",
    "majorToNum=catToNum([line[4] for line in rawDataX[1:]])\n",
    "indToNum=catToNum([line[5] for line in rawDataX[1:]])"
   ]
  },
  {
   "cell_type": "markdown",
   "metadata": {},
   "source": [
    "We create the encoding method using sklearn"
   ]
  },
  {
   "cell_type": "code",
   "execution_count": 6,
   "metadata": {
    "collapsed": true
   },
   "outputs": [],
   "source": [
    "from sklearn.preprocessing import OneHotEncoder\n",
    "def createEncoder(xToNum):\n",
    "    enc = OneHotEncoder()\n",
    "    enc.fit([[i] for i in range(len(xToNum))])\n",
    "    return enc \n",
    "\n",
    "encComp=createEncoder(compToNum)\n",
    "encJobType=createEncoder(jobTypeToNum)\n",
    "encDegree=createEncoder(degreeToNum)\n",
    "encMajor=createEncoder(majorToNum)\n",
    "encInd=createEncoder(indToNum)"
   ]
  },
  {
   "cell_type": "markdown",
   "metadata": {},
   "source": [
    "Finally, we transform the data"
   ]
  },
  {
   "cell_type": "code",
   "execution_count": 7,
   "metadata": {},
   "outputs": [],
   "source": [
    "def rawToHot(enc,xToNum,i,rawDataX):\n",
    "    return encComp.transform(\n",
    "    [[compToNum[line[1]]] for line in rawDataX[1:]]).toarray().tolist()"
   ]
  },
  {
   "cell_type": "code",
   "execution_count": 8,
   "metadata": {
    "collapsed": true
   },
   "outputs": [],
   "source": [
    "hotComp=rawToHot(encComp,compToNum,1,rawDataX)\n",
    "hotJobType=rawToHot(encJobType,jobTypeToNum,2,rawDataX)\n",
    "hotDegree=rawToHot(encDegree,degreeToNum,3,rawDataX)\n",
    "hotMajor=rawToHot(encMajor,majorToNum,4,rawDataX)\n",
    "hotInd=rawToHot(encInd,indToNum,5,rawDataX)"
   ]
  },
  {
   "cell_type": "markdown",
   "metadata": {},
   "source": [
    "# Creating feature vectors\n",
    "\n",
    "in this section I combine the features into a single feature vector.  Later, I will use only select features to explore the importance of the features."
   ]
  },
  {
   "cell_type": "code",
   "execution_count": 9,
   "metadata": {
    "collapsed": true
   },
   "outputs": [],
   "source": [
    "import numpy as np"
   ]
  },
  {
   "cell_type": "code",
   "execution_count": 10,
   "metadata": {
    "collapsed": true
   },
   "outputs": [],
   "source": [
    "maxExp=max([float(line[6]) for line in rawDataX[1:]])\n",
    "maxDist=max([float(line[7]) for line in rawDataX[1:]])"
   ]
  },
  {
   "cell_type": "code",
   "execution_count": 11,
   "metadata": {
    "collapsed": true
   },
   "outputs": [],
   "source": [
    "def createFeatures(array):\n",
    "    xData=[]\n",
    "    for x in array:\n",
    "        xData.append(np.concatenate(x).tolist())\n",
    "    return xData"
   ]
  },
  {
   "cell_type": "code",
   "execution_count": 12,
   "metadata": {
    "collapsed": true
   },
   "outputs": [],
   "source": [
    "xData=createFeatures(zip(\n",
    "    hotComp,\n",
    "    hotJobType,\n",
    "    hotDegree,\n",
    "    hotMajor,\n",
    "    hotInd,\n",
    "    [[float(line[6])/maxExp] for line in rawDataX[1:]],\n",
    "    [[float(line[7])/maxDist] for line in rawDataX[1:]]\n",
    "    ))"
   ]
  },
  {
   "cell_type": "markdown",
   "metadata": {},
   "source": [
    "# Model training\n",
    "In this section, I train the model and test the model using mean square error.  I also make a plot of predicted values vs. actual."
   ]
  },
  {
   "cell_type": "code",
   "execution_count": 12,
   "metadata": {
    "collapsed": true
   },
   "outputs": [],
   "source": [
    "from sklearn.model_selection import train_test_split\n",
    "from sklearn import linear_model"
   ]
  },
  {
   "cell_type": "code",
   "execution_count": 13,
   "metadata": {
    "collapsed": true
   },
   "outputs": [],
   "source": [
    "X_train, X_test, y_train, y_test = train_test_split(\n",
    "    xData,[rawDataY[line[0]] for line in rawDataX[1:]]\n",
    "    , test_size=0.25, random_state=0)"
   ]
  },
  {
   "cell_type": "code",
   "execution_count": 14,
   "metadata": {
    "collapsed": true
   },
   "outputs": [],
   "source": [
    "regr = linear_model.LinearRegression()"
   ]
  },
  {
   "cell_type": "code",
   "execution_count": 13,
   "metadata": {},
   "outputs": [],
   "source": [
    "def meanSquareError(y_test,y_pred):\n",
    "    import math\n",
    "    tot=0\n",
    "    for yp,yt in zip(y_pred,y_test):\n",
    "        tot+=pow(yp-yt,2)\n",
    "    return math.sqrt(tot/len(y_test))"
   ]
  },
  {
   "cell_type": "code",
   "execution_count": null,
   "metadata": {
    "collapsed": true
   },
   "outputs": [],
   "source": [
    "# Train the model using the training sets\n",
    "regr.fit(X_train, y_train)\n",
    "\n",
    "# Make predictions using the testing set\n",
    "y_pred = regr.predict(X_test)"
   ]
  },
  {
   "cell_type": "markdown",
   "metadata": {},
   "source": [
    "The mean square error is somewhat large but not totally unreasonable given that we have used such a simple model."
   ]
  },
  {
   "cell_type": "code",
   "execution_count": 19,
   "metadata": {},
   "outputs": [
    {
     "data": {
      "text/plain": [
       "33.98521123054836"
      ]
     },
     "execution_count": 19,
     "metadata": {},
     "output_type": "execute_result"
    }
   ],
   "source": [
    "meanSquareError(y_test,y_pred)"
   ]
  },
  {
   "cell_type": "markdown",
   "metadata": {},
   "source": [
    "We can additionally predict the mean square error if we can simply predicated the answer to be the average of all the salaries.  The error here is not too different from the one given by the linear regression model."
   ]
  },
  {
   "cell_type": "code",
   "execution_count": 25,
   "metadata": {},
   "outputs": [
    {
     "data": {
      "text/plain": [
       "38.68980408004556"
      ]
     },
     "execution_count": 25,
     "metadata": {},
     "output_type": "execute_result"
    }
   ],
   "source": [
    "ymean=np.mean(y_train)\n",
    "meanSquareError(y_test,[ymean for _ in y_pred])"
   ]
  },
  {
   "cell_type": "markdown",
   "metadata": {},
   "source": [
    "Below is a plot of the predicted salary vs the actual salary.  There seems to be a strong trend which is encouraging that we have acually captured something."
   ]
  },
  {
   "cell_type": "code",
   "execution_count": 23,
   "metadata": {},
   "outputs": [
    {
     "data": {
      "image/png": "[encoded data removed]",
      "text/plain": [
       "<matplotlib.figure.Figure at 0x34fa58c10>"
      ]
     },
     "metadata": {},
     "output_type": "display_data"
    }
   ],
   "source": [
    "import matplotlib.pyplot as plt\n",
    "\n",
    "plt.plot(y_pred[:2000],y_test[:2000],'x')\n",
    "plt.xlabel('predicted salary')\n",
    "plt.ylabel('actual salary')\n",
    "plt.show()"
   ]
  },
  {
   "cell_type": "markdown",
   "metadata": {},
   "source": [
    "# Removing features\n",
    "\n",
    "In this section I will remove one feature to explore how the error changes."
   ]
  },
  {
   "cell_type": "code",
   "execution_count": 14,
   "metadata": {
    "collapsed": true
   },
   "outputs": [],
   "source": [
    "def modelWrapper(array,rawDataY):\n",
    "    xData=createFeatures(array)\n",
    "    X_train, X_test, y_train, y_test = train_test_split(\n",
    "        xData,[rawDataY[line[0]] for line in rawDataX[1:]]\n",
    "        , test_size=0.25, random_state=0)\n",
    "    regr = linear_model.LinearRegression()\n",
    "\n",
    "    # Train the model using the training sets\n",
    "    regr.fit(X_train, y_train)\n",
    "\n",
    "    # Make predictions using the testing set\n",
    "    y_pred = regr.predict(X_test)\n",
    "\n",
    "    print meanSquareError(y_test,y_pred)"
   ]
  },
  {
   "cell_type": "markdown",
   "metadata": {},
   "source": [
    "Removed 'company type'"
   ]
  },
  {
   "cell_type": "code",
   "execution_count": 15,
   "metadata": {},
   "outputs": [
    {
     "name": "stderr",
     "output_type": "stream",
     "text": [
      "/Library/Frameworks/Python.framework/Versions/2.7/lib/python2.7/site-packages/scipy/linalg/basic.py:1226: RuntimeWarning: internal gelsd driver lwork query error, required iwork dimension not returned. This is likely the result of LAPACK bug 0038, fixed in LAPACK 3.2.2 (released July 21, 2010). Falling back to 'gelss' driver.\n",
      "  warnings.warn(mesg, RuntimeWarning)\n"
     ]
    },
    {
     "name": "stdout",
     "output_type": "stream",
     "text": [
      "33.9852100261\n"
     ]
    }
   ],
   "source": [
    "modelWrapper(zip(\n",
    "        hotJobType,\n",
    "        hotDegree,\n",
    "        hotMajor,\n",
    "        hotInd,\n",
    "        [[float(line[6])/maxExp] for line in rawDataX[1:]],\n",
    "        [[float(line[7])/maxDist] for line in rawDataX[1:]]\n",
    "        ),rawDataY)"
   ]
  },
  {
   "cell_type": "markdown",
   "metadata": {},
   "source": [
    "Remove 'job type'"
   ]
  },
  {
   "cell_type": "code",
   "execution_count": 16,
   "metadata": {},
   "outputs": [
    {
     "name": "stdout",
     "output_type": "stream",
     "text": [
      "33.9852100261\n"
     ]
    }
   ],
   "source": [
    "modelWrapper(zip(\n",
    "        hotComp,\n",
    "        hotDegree,\n",
    "        hotMajor,\n",
    "        hotInd,\n",
    "        [[float(line[6])/maxExp] for line in rawDataX[1:]],\n",
    "        [[float(line[7])/maxDist] for line in rawDataX[1:]]\n",
    "        ),rawDataY)"
   ]
  },
  {
   "cell_type": "markdown",
   "metadata": {},
   "source": [
    "Remove 'degree'"
   ]
  },
  {
   "cell_type": "code",
   "execution_count": null,
   "metadata": {},
   "outputs": [
    {
     "name": "stdout",
     "output_type": "stream",
     "text": [
      "33.9852100261\n"
     ]
    }
   ],
   "source": [
    "modelWrapper(zip(\n",
    "        hotComp,\n",
    "        hotJobType,\n",
    "        hotMajor,\n",
    "        hotInd,\n",
    "        [[float(line[6])/maxExp] for line in rawDataX[1:]],\n",
    "        [[float(line[7])/maxDist] for line in rawDataX[1:]]\n",
    "        ),rawDataY)"
   ]
  },
  {
   "cell_type": "markdown",
   "metadata": {},
   "source": [
    "Remove 'major'"
   ]
  },
  {
   "cell_type": "code",
   "execution_count": 19,
   "metadata": {},
   "outputs": [
    {
     "name": "stdout",
     "output_type": "stream",
     "text": [
      "33.9852100261\n"
     ]
    }
   ],
   "source": [
    "modelWrapper(zip(\n",
    "        hotComp,\n",
    "        hotJobType,\n",
    "        hotDegree,\n",
    "        hotInd,\n",
    "        [[float(line[6])/maxExp] for line in rawDataX[1:]],\n",
    "        [[float(line[7])/maxDist] for line in rawDataX[1:]]\n",
    "        ),rawDataY)"
   ]
  },
  {
   "cell_type": "markdown",
   "metadata": {},
   "source": [
    "Remove 'industry'"
   ]
  },
  {
   "cell_type": "code",
   "execution_count": 18,
   "metadata": {},
   "outputs": [
    {
     "name": "stdout",
     "output_type": "stream",
     "text": [
      "33.9852100261\n"
     ]
    }
   ],
   "source": [
    "modelWrapper(zip(\n",
    "        hotComp,\n",
    "        hotJobType,\n",
    "        hotDegree,\n",
    "        hotMajor,\n",
    "        [[float(line[6])/maxExp] for line in rawDataX[1:]],\n",
    "        [[float(line[7])/maxDist] for line in rawDataX[1:]]\n",
    "        ),rawDataY)"
   ]
  },
  {
   "cell_type": "markdown",
   "metadata": {},
   "source": [
    "Remove 'years experience'"
   ]
  },
  {
   "cell_type": "code",
   "execution_count": 17,
   "metadata": {},
   "outputs": [
    {
     "name": "stdout",
     "output_type": "stream",
     "text": [
      "36.9306391037\n"
     ]
    }
   ],
   "source": [
    "modelWrapper(zip(\n",
    "        hotComp,\n",
    "        hotJobType,\n",
    "        hotDegree,\n",
    "        hotMajor,\n",
    "        hotInd,\n",
    "        [[float(line[7])/maxDist] for line in rawDataX[1:]]\n",
    "        ),rawDataY)"
   ]
  },
  {
   "cell_type": "markdown",
   "metadata": {},
   "source": [
    "Remove 'miles from metropolis'"
   ]
  },
  {
   "cell_type": "code",
   "execution_count": null,
   "metadata": {
    "collapsed": true
   },
   "outputs": [],
   "source": [
    "modelWrapper(zip(\n",
    "        hotComp,\n",
    "        hotJobType,\n",
    "        hotDegree,\n",
    "        hotMajor,\n",
    "        hotInd,\n",
    "        [[float(line[6])/maxExp] for line in rawDataX[1:]]\n",
    "        ),rawDataY)"
   ]
  },
  {
   "cell_type": "markdown",
   "metadata": {},
   "source": [
    "To summarize the results above, here are the errors from models were one feature is removed:\n",
    "\n",
    "|model type        | error           | \n",
    "| :------------- |-------------|\n",
    "| average      | 38.68 |\n",
    "| all features      | 33.99      |\n",
    "| company id | 33.99 |\n",
    "| job type removed | 33.99      |\n",
    "| degree removed| 33.99 |\n",
    "| major removed | 33.99 |\n",
    "| industry removed | 33.99 |\n",
    "| years experience removed | 36.93 |\n",
    "| miles from metropolis removed|  |"
   ]
  },
  {
   "cell_type": "code",
   "execution_count": null,
   "metadata": {
    "collapsed": true
   },
   "outputs": [],
   "source": []
  }
 ],
 "metadata": {
  "kernelspec": {
   "display_name": "Python 2",
   "language": "python",
   "name": "python2"
  },
  "language_info": {
   "codemirror_mode": {
    "name": "ipython",
    "version": 2
   },
   "file_extension": ".py",
   "mimetype": "text/x-python",
   "name": "python",
   "nbconvert_exporter": "python",
   "pygments_lexer": "ipython2",
   "version": "2.7.13"
  }
 },
 "nbformat": 4,
 "nbformat_minor": 2
}
